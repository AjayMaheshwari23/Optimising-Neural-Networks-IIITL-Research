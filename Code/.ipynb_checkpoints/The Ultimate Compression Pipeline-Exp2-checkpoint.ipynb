{
 "cells": [
  {
   "cell_type": "markdown",
   "metadata": {
    "id": "SyiSRgdtSGPC"
   },
   "source": [
    "   # The Ultimate Compression Pipeline ~ Ajay Maheshwari"
   ]
  },
  {
   "cell_type": "code",
   "execution_count": 1,
   "metadata": {
    "execution": {
     "iopub.execute_input": "2024-03-09T12:49:23.001543Z",
     "iopub.status.busy": "2024-03-09T12:49:23.001064Z",
     "iopub.status.idle": "2024-03-09T12:49:25.431792Z",
     "shell.execute_reply": "2024-03-09T12:49:25.430649Z"
    },
    "id": "3asgXMqnSGPE"
   },
   "outputs": [],
   "source": [
    "! pip install -q tensorflow-model-optimization"
   ]
  },
  {
   "cell_type": "code",
   "execution_count": 2,
   "metadata": {
    "execution": {
     "iopub.execute_input": "2024-03-09T12:49:25.436272Z",
     "iopub.status.busy": "2024-03-09T12:49:25.435968Z",
     "iopub.status.idle": "2024-03-09T12:49:28.313563Z",
     "shell.execute_reply": "2024-03-09T12:49:28.312649Z"
    },
    "id": "gL6JiLXkSGPI"
   },
   "outputs": [],
   "source": [
    "import tensorflow as tf\n",
    "import tf_keras as keras\n",
    "\n",
    "import numpy as np\n",
    "import tempfile\n",
    "import zipfile\n",
    "import os"
   ]
  },
  {
   "cell_type": "code",
   "execution_count": 3,
   "metadata": {},
   "outputs": [],
   "source": [
    "def get_gzipped_model_size(model):\n",
    "  with tempfile.NamedTemporaryFile(suffix=\".h5\") as temp_file:  \n",
    "    model.save(temp_file.name)\n",
    "\n",
    "    _, zipped_file = tempfile.mkstemp('.zip')\n",
    "    with zipfile.ZipFile(zipped_file, 'w', compression=zipfile.ZIP_DEFLATED) as f:\n",
    "      f.write(temp_file.name)\n",
    "    \n",
    "    # print(f\"Zipped model is saved at: {zipped_file}\")\n",
    "\n",
    "    os.remove(zipped_file)\n",
    "    # print(f\"Temporary zip file removed: {zipped_file}\")\n",
    "        \n",
    "    return os.path.getsize(zipped_file) / 1000\n",
    "\n",
    "\n",
    "def print_model_weights_sparsity(model):\n",
    "    for layer in model.layers:\n",
    "        if isinstance(layer, keras.layers.Wrapper):\n",
    "            weights = layer.trainable_weights\n",
    "        else:\n",
    "            weights = layer.weights\n",
    "        for weight in weights:\n",
    "            if \"kernel\" not in weight.name or \"centroid\" in weight.name:\n",
    "                continue\n",
    "            weight_size = weight.numpy().size\n",
    "            zero_num = np.count_nonzero(weight == 0)\n",
    "            print(\n",
    "                f\"{weight.name}: {zero_num/weight_size:.2%} sparsity \",\n",
    "                f\"({zero_num}/{weight_size})\",\n",
    "            )\n",
    "\n",
    "\n",
    "def get_gzipped_model_size2(file):\n",
    "\n",
    "  _, zipped_file = tempfile.mkstemp('.zip')\n",
    "  with zipfile.ZipFile(zipped_file, 'w', compression=zipfile.ZIP_DEFLATED) as f:\n",
    "    f.write(file)\n",
    "\n",
    "  return os.path.getsize(zipped_file)/1000\n",
    "\n",
    "\n",
    "def eval_model(interpreter):\n",
    "  input_index = interpreter.get_input_details()[0][\"index\"]\n",
    "  output_index = interpreter.get_output_details()[0][\"index\"]\n",
    "\n",
    "  prediction_digits = []\n",
    "  for i, test_image in enumerate(test_images):\n",
    "    test_image = np.expand_dims(test_image, axis=0).astype(np.float32)\n",
    "    interpreter.set_tensor(input_index, test_image)\n",
    "\n",
    "    interpreter.invoke()\n",
    "\n",
    "    output = interpreter.tensor(output_index)\n",
    "    digit = np.argmax(output()[0])\n",
    "    prediction_digits.append(digit)\n",
    "\n",
    "  prediction_digits = np.array(prediction_digits)\n",
    "  accuracy = (prediction_digits == test_labels).mean()\n",
    "  return accuracy\n",
    "\n",
    "model_acc = []\n",
    "model_sz = []"
   ]
  },
  {
   "cell_type": "markdown",
   "metadata": {
    "id": "dKzOfl5FSGPL"
   },
   "source": [
    "## Creating a Base Model - 1.0"
   ]
  },
  {
   "cell_type": "code",
   "execution_count": 4,
   "metadata": {
    "execution": {
     "iopub.execute_input": "2024-03-09T12:49:28.318406Z",
     "iopub.status.busy": "2024-03-09T12:49:28.317612Z",
     "iopub.status.idle": "2024-03-09T12:50:51.327361Z",
     "shell.execute_reply": "2024-03-09T12:50:51.326512Z"
    },
    "id": "w7Fd6jZ7SGPL"
   },
   "outputs": [
    {
     "name": "stderr",
     "output_type": "stream",
     "text": [
      "WARNING:absl:At this time, the v2.11+ optimizer `tf.keras.optimizers.Adam` runs slowly on M1/M2 Macs, please use the legacy TF-Keras optimizer instead, located at `tf.keras.optimizers.legacy.Adam`.\n"
     ]
    },
    {
     "name": "stdout",
     "output_type": "stream",
     "text": [
      "Epoch 1/10\n",
      "1688/1688 [==============================] - 10s 3ms/step - loss: 0.3197 - accuracy: 0.9116 - val_loss: 0.1503 - val_accuracy: 0.9600\n",
      "Epoch 2/10\n",
      "1688/1688 [==============================] - 4s 2ms/step - loss: 0.1377 - accuracy: 0.9616 - val_loss: 0.0945 - val_accuracy: 0.9745\n",
      "Epoch 3/10\n",
      "1688/1688 [==============================] - 4s 2ms/step - loss: 0.0943 - accuracy: 0.9741 - val_loss: 0.0749 - val_accuracy: 0.9783\n",
      "Epoch 4/10\n",
      "1688/1688 [==============================] - 4s 3ms/step - loss: 0.0753 - accuracy: 0.9779 - val_loss: 0.0643 - val_accuracy: 0.9825\n",
      "Epoch 5/10\n",
      "1688/1688 [==============================] - 4s 3ms/step - loss: 0.0637 - accuracy: 0.9816 - val_loss: 0.0601 - val_accuracy: 0.9853\n",
      "Epoch 6/10\n",
      "1688/1688 [==============================] - 4s 3ms/step - loss: 0.0559 - accuracy: 0.9836 - val_loss: 0.0547 - val_accuracy: 0.9848\n",
      "Epoch 7/10\n",
      "1688/1688 [==============================] - 4s 3ms/step - loss: 0.0502 - accuracy: 0.9852 - val_loss: 0.0584 - val_accuracy: 0.9847\n",
      "Epoch 8/10\n",
      "1688/1688 [==============================] - 4s 3ms/step - loss: 0.0450 - accuracy: 0.9864 - val_loss: 0.0578 - val_accuracy: 0.9847\n",
      "Epoch 9/10\n",
      "1688/1688 [==============================] - 4s 3ms/step - loss: 0.0408 - accuracy: 0.9878 - val_loss: 0.0613 - val_accuracy: 0.9837\n",
      "Epoch 10/10\n",
      "1688/1688 [==============================] - 4s 2ms/step - loss: 0.0378 - accuracy: 0.9887 - val_loss: 0.0564 - val_accuracy: 0.9850\n"
     ]
    },
    {
     "data": {
      "text/plain": [
       "<tf_keras.src.callbacks.History at 0x13cdd4fd0>"
      ]
     },
     "execution_count": 4,
     "metadata": {},
     "output_type": "execute_result"
    }
   ],
   "source": [
    "# Load MNIST dataset\n",
    "mnist = keras.datasets.mnist\n",
    "(train_images, train_labels), (test_images, test_labels) = mnist.load_data()\n",
    "\n",
    "# Normalize the input image so that each pixel value is between 0 to 1.\n",
    "train_images = train_images / 255.0\n",
    "test_images  = test_images / 255.0\n",
    "\n",
    "model = keras.Sequential([\n",
    "  keras.layers.InputLayer(input_shape=(28, 28)),\n",
    "  keras.layers.Reshape(target_shape=(28, 28, 1)),\n",
    "  keras.layers.Conv2D(filters=12, kernel_size=(3, 3),\n",
    "                         activation=tf.nn.relu),\n",
    "  keras.layers.MaxPooling2D(pool_size=(2, 2)),\n",
    "  keras.layers.Flatten(),\n",
    "  keras.layers.Dense(10)\n",
    "])\n",
    "\n",
    "opt = keras.optimizers.Adam(learning_rate=1e-3)\n",
    "\n",
    "# Train the digit classification model\n",
    "model.compile(optimizer=opt,\n",
    "              loss=keras.losses.SparseCategoricalCrossentropy(from_logits=True),\n",
    "              metrics=['accuracy'])\n",
    "\n",
    "model.fit(\n",
    "    train_images,\n",
    "    train_labels,\n",
    "    validation_split=0.1,\n",
    "    epochs=10\n",
    ")"
   ]
  },
  {
   "cell_type": "markdown",
   "metadata": {
    "id": "rBOQ8MeESGPO"
   },
   "source": [
    "### Evaluate the baseline model and save it for later usage"
   ]
  },
  {
   "cell_type": "code",
   "execution_count": 5,
   "metadata": {
    "execution": {
     "iopub.execute_input": "2024-03-09T12:50:51.331343Z",
     "iopub.status.busy": "2024-03-09T12:50:51.330742Z",
     "iopub.status.idle": "2024-03-09T12:50:51.987721Z",
     "shell.execute_reply": "2024-03-09T12:50:51.986958Z"
    },
    "id": "HYulekocSGPP"
   },
   "outputs": [
    {
     "name": "stdout",
     "output_type": "stream",
     "text": [
      "Baseline test accuracy: 0.9825000166893005\n",
      "Zipped model is saved at: /var/folders/px/z8lb6znd6q95tq6vlznyb0s40000gn/T/tmpawnvrged.zip\n",
      "Base model size:  223.497  KB\n"
     ]
    },
    {
     "name": "stderr",
     "output_type": "stream",
     "text": [
      "/Users/ajaymaheshwari/anaconda3/lib/python3.11/site-packages/tf_keras/src/engine/training.py:3098: UserWarning: You are saving your model as an HDF5 file via `model.save()`. This file format is considered legacy. We recommend using instead the native TF-Keras format, e.g. `model.save('my_model.keras')`.\n",
      "  saving_api.save_model(\n"
     ]
    }
   ],
   "source": [
    "_, baseline_model_accuracy = model.evaluate(\n",
    "    test_images, test_labels, verbose=0)\n",
    "\n",
    "print('Baseline test accuracy:', baseline_model_accuracy)\n",
    "\n",
    "sz = get_gzipped_model_size(model)\n",
    "print(\"Base model size: \",  sz , ' KB' )\n",
    "\n",
    "model_acc.append(baseline_model_accuracy)\n",
    "model_sz.append(sz)"
   ]
  },
  {
   "cell_type": "markdown",
   "metadata": {},
   "source": [
    "                         ---------- Checkpoint Point 1 ---------"
   ]
  },
  {
   "cell_type": "markdown",
   "metadata": {
    "id": "HPoCr4OFkXZE"
   },
   "source": [
    "## Pruning and then fine-tuning the model - 2.0"
   ]
  },
  {
   "cell_type": "code",
   "execution_count": 8,
   "metadata": {
    "execution": {
     "iopub.execute_input": "2024-03-09T12:50:51.992256Z",
     "iopub.status.busy": "2024-03-09T12:50:51.991693Z",
     "iopub.status.idle": "2024-03-09T12:50:52.943566Z",
     "shell.execute_reply": "2024-03-09T12:50:52.942753Z"
    },
    "id": "mqsN5tP-kXZF"
   },
   "outputs": [
    {
     "name": "stderr",
     "output_type": "stream",
     "text": [
      "WARNING:absl:At this time, the v2.11+ optimizer `tf.keras.optimizers.Adam` runs slowly on M1/M2 Macs, please use the legacy TF-Keras optimizer instead, located at `tf.keras.optimizers.legacy.Adam`.\n"
     ]
    },
    {
     "name": "stdout",
     "output_type": "stream",
     "text": [
      "Epoch 1/10\n",
      "1688/1688 [==============================] - 6s 3ms/step - loss: 0.0443 - accuracy: 0.9860 - val_loss: 0.0651 - val_accuracy: 0.9820\n",
      "Epoch 2/10\n",
      "1688/1688 [==============================] - 5s 3ms/step - loss: 0.0391 - accuracy: 0.9886 - val_loss: 0.0620 - val_accuracy: 0.9833\n",
      "Epoch 3/10\n",
      "1688/1688 [==============================] - 5s 3ms/step - loss: 0.0371 - accuracy: 0.9893 - val_loss: 0.0608 - val_accuracy: 0.9840\n",
      "Epoch 4/10\n",
      "1688/1688 [==============================] - 5s 3ms/step - loss: 0.0360 - accuracy: 0.9896 - val_loss: 0.0601 - val_accuracy: 0.9842\n",
      "Epoch 5/10\n",
      "1688/1688 [==============================] - 5s 3ms/step - loss: 0.0353 - accuracy: 0.9899 - val_loss: 0.0595 - val_accuracy: 0.9843\n",
      "Epoch 6/10\n",
      "1688/1688 [==============================] - 5s 3ms/step - loss: 0.0348 - accuracy: 0.9901 - val_loss: 0.0590 - val_accuracy: 0.9847\n",
      "Epoch 7/10\n",
      "1688/1688 [==============================] - 5s 3ms/step - loss: 0.0343 - accuracy: 0.9904 - val_loss: 0.0586 - val_accuracy: 0.9848\n",
      "Epoch 8/10\n",
      "1688/1688 [==============================] - 5s 3ms/step - loss: 0.0338 - accuracy: 0.9906 - val_loss: 0.0582 - val_accuracy: 0.9850\n",
      "Epoch 9/10\n",
      "1688/1688 [==============================] - 4s 3ms/step - loss: 0.0335 - accuracy: 0.9908 - val_loss: 0.0580 - val_accuracy: 0.9852\n",
      "Epoch 10/10\n",
      "1688/1688 [==============================] - 4s 3ms/step - loss: 0.0331 - accuracy: 0.9909 - val_loss: 0.0577 - val_accuracy: 0.9852\n",
      "conv2d/kernel:0: 50.00% sparsity  (54/108)\n",
      "dense/kernel:0: 50.00% sparsity  (10140/20280)\n"
     ]
    }
   ],
   "source": [
    "import tensorflow_model_optimization as tfmot\n",
    "\n",
    "pruning_params = {\n",
    "          'pruning_schedule': tfmot.sparsity.keras.ConstantSparsity(0.5, begin_step=0, frequency=100)     \n",
    "}\n",
    "\n",
    "callbacks = [\n",
    "      tfmot.sparsity.keras.UpdatePruningStep()\n",
    "]\n",
    "    \n",
    "    \n",
    "pruned_model = model\n",
    "\n",
    "for i in range(1):\n",
    "    prune_low_magnitude = tfmot.sparsity.keras.prune_low_magnitude\n",
    "\n",
    "    pruned_model = prune_low_magnitude(pruned_model, **pruning_params)\n",
    "\n",
    "    # learning rate for fine-tuning\n",
    "    opt = keras.optimizers.Adam(learning_rate=1e-5)\n",
    "    \n",
    "    \n",
    "    pruned_model.compile(\n",
    "      loss=keras.losses.SparseCategoricalCrossentropy(from_logits=True),\n",
    "      optimizer=opt,\n",
    "      metrics=['accuracy'])\n",
    "    \n",
    "    # Fine-tune model\n",
    "    pruned_model.fit(\n",
    "      train_images,\n",
    "      train_labels,\n",
    "      epochs=10,\n",
    "      validation_split=0.1,\n",
    "      callbacks=callbacks)\n",
    "    \n",
    "    stripped_pruned_model = tfmot.sparsity.keras.strip_pruning(pruned_model)\n",
    "\n",
    "    print_model_weights_sparsity(stripped_pruned_model)\n",
    "    \n",
    "    pruned_model = stripped_pruned_model\n",
    "    \n",
    "    "
   ]
  },
  {
   "cell_type": "code",
   "execution_count": 9,
   "metadata": {
    "execution": {
     "iopub.execute_input": "2024-03-09T12:50:52.948105Z",
     "iopub.status.busy": "2024-03-09T12:50:52.947434Z",
     "iopub.status.idle": "2024-03-09T12:51:17.402820Z",
     "shell.execute_reply": "2024-03-09T12:51:17.401918Z"
    },
    "id": "2aBxR8uEkXZG"
   },
   "outputs": [],
   "source": [
    "pruned_model.compile(\n",
    "      loss=keras.losses.SparseCategoricalCrossentropy(from_logits=True),\n",
    "      optimizer=opt,\n",
    "      metrics=['accuracy'])\n"
   ]
  },
  {
   "cell_type": "code",
   "execution_count": null,
   "metadata": {
    "execution": {
     "iopub.execute_input": "2024-03-09T12:51:17.406749Z",
     "iopub.status.busy": "2024-03-09T12:51:17.406047Z",
     "iopub.status.idle": "2024-03-09T12:51:17.412875Z",
     "shell.execute_reply": "2024-03-09T12:51:17.412200Z"
    },
    "id": "XL-zWoU4kXZG"
   },
   "outputs": [],
   "source": []
  },
  {
   "cell_type": "code",
   "execution_count": 10,
   "metadata": {
    "execution": {
     "iopub.execute_input": "2024-03-09T12:51:17.416380Z",
     "iopub.status.busy": "2024-03-09T12:51:17.415788Z",
     "iopub.status.idle": "2024-03-09T12:51:17.453872Z",
     "shell.execute_reply": "2024-03-09T12:51:17.453121Z"
    },
    "id": "_8_p--1NkXZG"
   },
   "outputs": [
    {
     "name": "stdout",
     "output_type": "stream",
     "text": [
      "Pruned Model test accuracy: 0.9821000099182129\n",
      "Zipped model is saved at: /var/folders/px/z8lb6znd6q95tq6vlznyb0s40000gn/T/tmpzhwva8w4.zip\n",
      "Stripped model size:  191.094  KB\n"
     ]
    }
   ],
   "source": [
    "_, pruned_model_accuracy = pruned_model.evaluate(\n",
    "    test_images, test_labels, verbose=0)\n",
    "\n",
    "print('Pruned Model test accuracy:', pruned_model_accuracy)\n",
    "\n",
    "sz = get_gzipped_model_size(pruned_model)\n",
    "print(\"Stripped model size: \",  sz , ' KB' )\n",
    "\n",
    "model_acc.append(pruned_model_accuracy)\n",
    "model_sz.append(sz)\n"
   ]
  },
  {
   "cell_type": "markdown",
   "metadata": {},
   "source": [
    "                         ---------- Checkpoint Point 2 ---------"
   ]
  },
  {
   "cell_type": "markdown",
   "metadata": {},
   "source": [
    "## Knowledge Distillation - 3.0"
   ]
  },
  {
   "cell_type": "code",
   "execution_count": 11,
   "metadata": {},
   "outputs": [],
   "source": [
    "from keras import layers\n",
    "from keras import ops\n",
    "import numpy as np\n",
    "\n",
    "class Distiller(keras.Model):\n",
    "    def __init__(self, student, teacher):\n",
    "        super().__init__()\n",
    "        self.teacher = teacher\n",
    "        self.student = student\n",
    "\n",
    "    def compile(\n",
    "        self,\n",
    "        optimizer,\n",
    "        metrics,\n",
    "        student_loss_fn,\n",
    "        distillation_loss_fn,\n",
    "        alpha=0.1,\n",
    "        temperature=3,\n",
    "    ):\n",
    "        super().compile(optimizer=optimizer, metrics=metrics)\n",
    "        self.student_loss_fn = student_loss_fn\n",
    "        self.distillation_loss_fn = distillation_loss_fn\n",
    "        self.alpha = alpha\n",
    "        self.temperature = temperature\n",
    "\n",
    "    def compute_loss(\n",
    "        self, x=None, y=None, y_pred=None, sample_weight=None, allow_empty=False\n",
    "    ):\n",
    "        teacher_pred = self.teacher(x, training=False)\n",
    "        student_loss = self.student_loss_fn(y, y_pred)\n",
    "\n",
    "        distillation_loss = self.distillation_loss_fn(\n",
    "            ops.softmax(teacher_pred / self.temperature, axis=1),\n",
    "            ops.softmax(y_pred / self.temperature, axis=1),\n",
    "        ) * (self.temperature**2)\n",
    "\n",
    "        loss = self.alpha * student_loss + (1 - self.alpha) * distillation_loss\n",
    "        return loss\n",
    "\n",
    "    def call(self, x):\n",
    "        return self.student(x)"
   ]
  },
  {
   "cell_type": "code",
   "execution_count": 12,
   "metadata": {},
   "outputs": [
    {
     "name": "stderr",
     "output_type": "stream",
     "text": [
      "WARNING:absl:At this time, the v2.11+ optimizer `tf.keras.optimizers.Adam` runs slowly on M1/M2 Macs, please use the legacy TF-Keras optimizer instead, located at `tf.keras.optimizers.legacy.Adam`.\n"
     ]
    }
   ],
   "source": [
    "teacher = keras.Sequential(\n",
    "    [\n",
    "        keras.layers.InputLayer(input_shape=(28, 28)),\n",
    "        keras.layers.Reshape(target_shape=(28, 28, 1)),\n",
    "        keras.layers.Conv2D(filters=16, kernel_size=(3, 3), activation=tf.nn.relu),  # Increase filters\n",
    "        keras.layers.MaxPooling2D(pool_size=(2, 2)),\n",
    "        keras.layers.Conv2D(filters=24, kernel_size=(3, 3), activation=tf.nn.relu),  # Add another layer\n",
    "        keras.layers.MaxPooling2D(pool_size=(2, 2)),\n",
    "        keras.layers.Flatten(),\n",
    "        keras.layers.Dense(units=128, activation=tf.nn.relu),  # Add a hidden layer\n",
    "        keras.layers.Dense(10)\n",
    "    ],\n",
    "    name=\"teacher\",\n",
    ")\n",
    "\n",
    "\n",
    "# teacher = keras.Sequential(\n",
    "#     [\n",
    "#           keras.layers.InputLayer(input_shape=(28, 28)),\n",
    "#           keras.layers.Reshape(target_shape=(28, 28, 1)),\n",
    "#           keras.layers.Conv2D(filters=12, kernel_size=(3, 3),\n",
    "#                                  activation=tf.nn.relu),\n",
    "#           keras.layers.MaxPooling2D(pool_size=(2, 2)),\n",
    "#           keras.layers.Flatten(),\n",
    "#           keras.layers.Dense(10)\n",
    "#     ],\n",
    "#     name=\"teacher\",\n",
    "# )\n",
    "\n",
    "\n",
    "teacher.compile(\n",
    "    optimizer=keras.optimizers.Adam(),\n",
    "    loss=keras.losses.SparseCategoricalCrossentropy(from_logits=True),\n",
    "    metrics=[keras.metrics.SparseCategoricalAccuracy()],\n",
    ")"
   ]
  },
  {
   "cell_type": "code",
   "execution_count": 13,
   "metadata": {},
   "outputs": [
    {
     "name": "stdout",
     "output_type": "stream",
     "text": [
      "Epoch 1/12\n",
      "1875/1875 [==============================] - 8s 4ms/step - loss: 0.1565 - sparse_categorical_accuracy: 0.9530\n",
      "Epoch 2/12\n",
      "1875/1875 [==============================] - 8s 4ms/step - loss: 0.0507 - sparse_categorical_accuracy: 0.9843\n",
      "Epoch 3/12\n",
      "1875/1875 [==============================] - 8s 4ms/step - loss: 0.0351 - sparse_categorical_accuracy: 0.9892\n",
      "Epoch 4/12\n",
      "1875/1875 [==============================] - 8s 4ms/step - loss: 0.0265 - sparse_categorical_accuracy: 0.9915\n",
      "Epoch 5/12\n",
      "1875/1875 [==============================] - 8s 4ms/step - loss: 0.0199 - sparse_categorical_accuracy: 0.9931\n",
      "Epoch 6/12\n",
      "1875/1875 [==============================] - 8s 4ms/step - loss: 0.0149 - sparse_categorical_accuracy: 0.9952\n",
      "Epoch 7/12\n",
      "1875/1875 [==============================] - 8s 4ms/step - loss: 0.0126 - sparse_categorical_accuracy: 0.9956\n",
      "Epoch 8/12\n",
      "1875/1875 [==============================] - 8s 4ms/step - loss: 0.0109 - sparse_categorical_accuracy: 0.9965\n",
      "Epoch 9/12\n",
      "1875/1875 [==============================] - 8s 4ms/step - loss: 0.0092 - sparse_categorical_accuracy: 0.9967\n",
      "Epoch 10/12\n",
      "1875/1875 [==============================] - 8s 4ms/step - loss: 0.0086 - sparse_categorical_accuracy: 0.9972\n",
      "Epoch 11/12\n",
      "1875/1875 [==============================] - 8s 4ms/step - loss: 0.0063 - sparse_categorical_accuracy: 0.9979\n",
      "Epoch 12/12\n",
      "1875/1875 [==============================] - 8s 4ms/step - loss: 0.0062 - sparse_categorical_accuracy: 0.9979\n",
      "313/313 [==============================] - 1s 2ms/step - loss: 0.0456 - sparse_categorical_accuracy: 0.9905\n"
     ]
    },
    {
     "data": {
      "text/plain": [
       "[0.045551300048828125, 0.9904999732971191]"
      ]
     },
     "execution_count": 13,
     "metadata": {},
     "output_type": "execute_result"
    }
   ],
   "source": [
    "teacher.fit(train_images, train_labels, epochs=12)\n",
    "teacher.evaluate(test_images, test_labels)"
   ]
  },
  {
   "cell_type": "code",
   "execution_count": 14,
   "metadata": {},
   "outputs": [
    {
     "name": "stderr",
     "output_type": "stream",
     "text": [
      "WARNING:absl:At this time, the v2.11+ optimizer `tf.keras.optimizers.Adam` runs slowly on M1/M2 Macs, please use the legacy TF-Keras optimizer instead, located at `tf.keras.optimizers.legacy.Adam`.\n"
     ]
    }
   ],
   "source": [
    "distiller = Distiller(student=pruned_model, teacher=teacher)\n",
    "distiller.compile(\n",
    "    optimizer=keras.optimizers.Adam(),\n",
    "    metrics=[keras.metrics.SparseCategoricalAccuracy()],\n",
    "    student_loss_fn=keras.losses.SparseCategoricalCrossentropy(from_logits=True),\n",
    "    distillation_loss_fn=keras.losses.KLDivergence(),\n",
    "    alpha=0.1,\n",
    "    temperature=10,\n",
    ")\n"
   ]
  },
  {
   "cell_type": "code",
   "execution_count": 15,
   "metadata": {},
   "outputs": [
    {
     "name": "stdout",
     "output_type": "stream",
     "text": [
      "Epoch 1/15\n",
      "1875/1875 [==============================] - 11s 5ms/step - sparse_categorical_accuracy: 0.9750\n",
      "Epoch 2/15\n",
      "1875/1875 [==============================] - 10s 5ms/step - sparse_categorical_accuracy: 0.9722\n",
      "Epoch 3/15\n",
      "1875/1875 [==============================] - 10s 5ms/step - sparse_categorical_accuracy: 0.9693\n",
      "Epoch 4/15\n",
      "1875/1875 [==============================] - 10s 5ms/step - sparse_categorical_accuracy: 0.9675\n",
      "Epoch 5/15\n",
      "1875/1875 [==============================] - 10s 5ms/step - sparse_categorical_accuracy: 0.9679\n",
      "Epoch 6/15\n",
      "1875/1875 [==============================] - 10s 5ms/step - sparse_categorical_accuracy: 0.9690\n",
      "Epoch 7/15\n",
      "1875/1875 [==============================] - 10s 5ms/step - sparse_categorical_accuracy: 0.9705\n",
      "Epoch 8/15\n",
      "1875/1875 [==============================] - 10s 5ms/step - sparse_categorical_accuracy: 0.9717\n",
      "Epoch 9/15\n",
      "1875/1875 [==============================] - 10s 5ms/step - sparse_categorical_accuracy: 0.9721\n",
      "Epoch 10/15\n",
      "1875/1875 [==============================] - 10s 5ms/step - sparse_categorical_accuracy: 0.9730\n",
      "Epoch 11/15\n",
      "1875/1875 [==============================] - 10s 5ms/step - sparse_categorical_accuracy: 0.9737\n",
      "Epoch 12/15\n",
      "1875/1875 [==============================] - 10s 5ms/step - sparse_categorical_accuracy: 0.9742\n",
      "Epoch 13/15\n",
      "1875/1875 [==============================] - 10s 5ms/step - sparse_categorical_accuracy: 0.9750\n",
      "Epoch 14/15\n",
      "1875/1875 [==============================] - 10s 5ms/step - sparse_categorical_accuracy: 0.9751\n",
      "Epoch 15/15\n",
      "1875/1875 [==============================] - 10s 5ms/step - sparse_categorical_accuracy: 0.9759\n",
      "313/313 [==============================] - 0s 857us/step - sparse_categorical_accuracy: 0.9781\n"
     ]
    },
    {
     "data": {
      "text/plain": [
       "0.9781000018119812"
      ]
     },
     "execution_count": 15,
     "metadata": {},
     "output_type": "execute_result"
    }
   ],
   "source": [
    "# Distill teacher se student\n",
    "distiller.fit(train_images, train_labels, epochs=15)\n",
    "\n",
    "distiller.evaluate(test_images, test_labels)"
   ]
  },
  {
   "cell_type": "code",
   "execution_count": 16,
   "metadata": {},
   "outputs": [
    {
     "name": "stdout",
     "output_type": "stream",
     "text": [
      "Distilled Model test accuracy: 0.9781000018119812\n",
      "Zipped model is saved at: /var/folders/px/z8lb6znd6q95tq6vlznyb0s40000gn/T/tmpz6j5cnou.zip\n",
      "Distilled model size:  210.341  KB\n"
     ]
    }
   ],
   "source": [
    "_, acc = distiller.student.evaluate(\n",
    "    test_images, test_labels, verbose=0)\n",
    "\n",
    "print('Distilled Model test accuracy:', acc)\n",
    "\n",
    "sz = get_gzipped_model_size(distiller.student)\n",
    "print(\"Distilled model size: \",  sz , ' KB' )\n",
    "\n",
    "model_acc.append(acc)\n",
    "model_sz.append(sz)"
   ]
  },
  {
   "cell_type": "markdown",
   "metadata": {},
   "source": [
    "                         ---------- Checkpoint Point 3 ---------"
   ]
  },
  {
   "cell_type": "markdown",
   "metadata": {},
   "source": [
    "## Weight Clustering - 4.0"
   ]
  },
  {
   "cell_type": "code",
   "execution_count": 17,
   "metadata": {},
   "outputs": [],
   "source": [
    "def print_model_weight_clusters(model):\n",
    "    for layer in model.layers:\n",
    "        if isinstance(layer, keras.layers.Wrapper):\n",
    "            weights = layer.trainable_weights\n",
    "        else:\n",
    "            weights = layer.weights\n",
    "        for weight in weights:\n",
    "            # ignore auxiliary quantization weights\n",
    "            if \"quantize_layer\" in weight.name:\n",
    "                continue\n",
    "            if \"kernel\" in weight.name:\n",
    "                unique_count = len(np.unique(weight))\n",
    "                print(\n",
    "                    f\"{layer.name}/{weight.name}: {unique_count} clusters \"\n",
    "                )"
   ]
  },
  {
   "cell_type": "code",
   "execution_count": 18,
   "metadata": {
    "execution": {
     "iopub.execute_input": "2024-03-09T12:51:17.457801Z",
     "iopub.status.busy": "2024-03-09T12:51:17.457165Z",
     "iopub.status.idle": "2024-03-09T12:51:42.585401Z",
     "shell.execute_reply": "2024-03-09T12:51:42.584660Z"
    },
    "id": "RetnGeQnkXZH"
   },
   "outputs": [
    {
     "name": "stdout",
     "output_type": "stream",
     "text": [
      "Train sparsity preserving clustering model:\n",
      "Epoch 1/6\n",
      "1688/1688 [==============================] - 8s 4ms/step - loss: 0.0834 - accuracy: 0.9750 - val_loss: 0.0634 - val_accuracy: 0.9832\n",
      "Epoch 2/6\n",
      "1688/1688 [==============================] - 6s 4ms/step - loss: 0.0677 - accuracy: 0.9795 - val_loss: 0.0712 - val_accuracy: 0.9803\n",
      "Epoch 3/6\n",
      "1688/1688 [==============================] - 6s 4ms/step - loss: 0.0631 - accuracy: 0.9810 - val_loss: 0.0781 - val_accuracy: 0.9812\n",
      "Epoch 4/6\n",
      "1688/1688 [==============================] - 6s 4ms/step - loss: 0.0610 - accuracy: 0.9813 - val_loss: 0.0594 - val_accuracy: 0.9842\n",
      "Epoch 5/6\n",
      "1688/1688 [==============================] - 6s 4ms/step - loss: 0.0572 - accuracy: 0.9824 - val_loss: 0.0565 - val_accuracy: 0.9843\n",
      "Epoch 6/6\n",
      "1688/1688 [==============================] - 6s 4ms/step - loss: 0.0549 - accuracy: 0.9828 - val_loss: 0.0587 - val_accuracy: 0.9840\n"
     ]
    },
    {
     "data": {
      "text/plain": [
       "<tf_keras.src.callbacks.History at 0x15f9cd250>"
      ]
     },
     "execution_count": 18,
     "metadata": {},
     "output_type": "execute_result"
    }
   ],
   "source": [
    "import tensorflow_model_optimization as tfmot\n",
    "from tensorflow_model_optimization.python.core.clustering.keras.experimental import (\n",
    "    cluster,\n",
    ")\n",
    "\n",
    "cluster_weights = tfmot.clustering.keras.cluster_weights\n",
    "CentroidInitialization = tfmot.clustering.keras.CentroidInitialization\n",
    "\n",
    "cluster_weights = cluster.cluster_weights\n",
    "\n",
    "clustering_params = {\n",
    "  'number_of_clusters': 8,\n",
    "  'cluster_centroids_init': CentroidInitialization.KMEANS_PLUS_PLUS,\n",
    "  'preserve_sparsity': True\n",
    "}\n",
    "\n",
    "sparsity_clustered_model = cluster_weights(distiller.student, **clustering_params)\n",
    "\n",
    "sparsity_clustered_model.compile(optimizer='adam',\n",
    "              loss=keras.losses.SparseCategoricalCrossentropy(from_logits=True),\n",
    "              metrics=['accuracy'])\n",
    "\n",
    "print('Train sparsity preserving clustering model:')\n",
    "sparsity_clustered_model.fit(train_images, train_labels,epochs=6, validation_split=0.1)"
   ]
  },
  {
   "cell_type": "code",
   "execution_count": 19,
   "metadata": {
    "execution": {
     "iopub.execute_input": "2024-03-09T12:51:42.589384Z",
     "iopub.status.busy": "2024-03-09T12:51:42.588809Z",
     "iopub.status.idle": "2024-03-09T12:51:42.647457Z",
     "shell.execute_reply": "2024-03-09T12:51:42.646687Z"
    },
    "id": "iHN3NW8OkXZI"
   },
   "outputs": [
    {
     "name": "stdout",
     "output_type": "stream",
     "text": [
      "Model sparsity:\n",
      "\n",
      "kernel:0: 39.81% sparsity  (43/108)\n",
      "kernel:0: 70.53% sparsity  (14303/20280)\n",
      "\n",
      "Model clusters:\n",
      "\n",
      "conv2d/kernel:0: 8 clusters \n",
      "dense/kernel:0: 8 clusters \n"
     ]
    }
   ],
   "source": [
    "stripped_clustered_model = tfmot.clustering.keras.strip_clustering(sparsity_clustered_model)\n",
    "\n",
    "print(\"Model sparsity:\\n\")\n",
    "print_model_weights_sparsity(stripped_clustered_model)\n",
    "\n",
    "print(\"\\nModel clusters:\\n\")\n",
    "print_model_weight_clusters(stripped_clustered_model)"
   ]
  },
  {
   "cell_type": "code",
   "execution_count": 20,
   "metadata": {},
   "outputs": [],
   "source": [
    "stripped_clustered_model.compile(optimizer=opt,\n",
    "              loss=keras.losses.SparseCategoricalCrossentropy(from_logits=True),\n",
    "              metrics=['accuracy'])"
   ]
  },
  {
   "cell_type": "code",
   "execution_count": 21,
   "metadata": {},
   "outputs": [
    {
     "name": "stdout",
     "output_type": "stream",
     "text": [
      "Clustered Model test accuracy: 0.9800999760627747\n",
      "Zipped model is saved at: /var/folders/px/z8lb6znd6q95tq6vlznyb0s40000gn/T/tmp5dp_x6ll.zip\n",
      "Clustered model size:  152.243  KB\n"
     ]
    }
   ],
   "source": [
    "_, stripped_clustered_model_accuracy = stripped_clustered_model.evaluate(\n",
    "    test_images, test_labels, verbose=0)\n",
    "\n",
    "print('Clustered Model test accuracy:', stripped_clustered_model_accuracy)\n",
    "\n",
    "sz = get_gzipped_model_size(stripped_clustered_model)\n",
    "print(\"Clustered model size: \",  sz , ' KB' )\n",
    "\n",
    "model_acc.append(stripped_clustered_model_accuracy)\n",
    "model_sz.append(sz)"
   ]
  },
  {
   "cell_type": "markdown",
   "metadata": {},
   "source": [
    "                         ---------- Checkpoint Point 4 ---------"
   ]
  },
  {
   "cell_type": "markdown",
   "metadata": {},
   "source": [
    "## Quantization - 5.0"
   ]
  },
  {
   "cell_type": "code",
   "execution_count": 22,
   "metadata": {
    "execution": {
     "iopub.execute_input": "2024-03-09T12:51:42.651439Z",
     "iopub.status.busy": "2024-03-09T12:51:42.650879Z",
     "iopub.status.idle": "2024-03-09T12:51:55.132299Z",
     "shell.execute_reply": "2024-03-09T12:51:55.131490Z"
    },
    "id": "Nfp-xfHdZIUc"
   },
   "outputs": [
    {
     "name": "stdout",
     "output_type": "stream",
     "text": [
      "Training after quantization model:\n",
      "Epoch 1/3\n",
      "WARNING:tensorflow:Gradients do not exist for variables ['conv2d/kernel:0', 'dense/kernel:0'] when minimizing the loss. If you're using `model.compile()`, did you forget to provide a `loss` argument?\n"
     ]
    },
    {
     "name": "stderr",
     "output_type": "stream",
     "text": [
      "WARNING:tensorflow:Gradients do not exist for variables ['conv2d/kernel:0', 'dense/kernel:0'] when minimizing the loss. If you're using `model.compile()`, did you forget to provide a `loss` argument?\n"
     ]
    },
    {
     "name": "stdout",
     "output_type": "stream",
     "text": [
      "WARNING:tensorflow:Gradients do not exist for variables ['conv2d/kernel:0', 'dense/kernel:0'] when minimizing the loss. If you're using `model.compile()`, did you forget to provide a `loss` argument?\n"
     ]
    },
    {
     "name": "stderr",
     "output_type": "stream",
     "text": [
      "WARNING:tensorflow:Gradients do not exist for variables ['conv2d/kernel:0', 'dense/kernel:0'] when minimizing the loss. If you're using `model.compile()`, did you forget to provide a `loss` argument?\n"
     ]
    },
    {
     "name": "stdout",
     "output_type": "stream",
     "text": [
      "422/422 [==============================] - 4s 7ms/step - loss: 0.0461 - accuracy: 0.9862 - val_loss: 0.0581 - val_accuracy: 0.9843\n",
      "Epoch 2/3\n",
      "422/422 [==============================] - 3s 7ms/step - loss: 0.0411 - accuracy: 0.9879 - val_loss: 0.0554 - val_accuracy: 0.9852\n",
      "Epoch 3/3\n",
      "422/422 [==============================] - 3s 7ms/step - loss: 0.0401 - accuracy: 0.9877 - val_loss: 0.0579 - val_accuracy: 0.9852\n"
     ]
    },
    {
     "data": {
      "text/plain": [
       "<tf_keras.src.callbacks.History at 0x16bc0ff90>"
      ]
     },
     "execution_count": 22,
     "metadata": {},
     "output_type": "execute_result"
    }
   ],
   "source": [
    "quant_aware_annotate_model = tfmot.quantization.keras.quantize_annotate_model(\n",
    "              stripped_clustered_model)\n",
    "quant_model = tfmot.quantization.keras.quantize_apply(\n",
    "              quant_aware_annotate_model,\n",
    "              tfmot.experimental.combine.Default8BitClusterPreserveQuantizeScheme(preserve_sparsity=True))\n",
    "\n",
    "quant_model.compile(optimizer='adam',\n",
    "              loss=keras.losses.SparseCategoricalCrossentropy(from_logits=True),\n",
    "              metrics=['accuracy'])\n",
    "print('Training after quantization model:')\n",
    "quant_model.fit(train_images, train_labels, batch_size=128, epochs=3, validation_split=0.1)"
   ]
  },
  {
   "cell_type": "code",
   "execution_count": 23,
   "metadata": {
    "execution": {
     "iopub.execute_input": "2024-03-09T12:51:55.136081Z",
     "iopub.status.busy": "2024-03-09T12:51:55.135494Z",
     "iopub.status.idle": "2024-03-09T12:51:55.145936Z",
     "shell.execute_reply": "2024-03-09T12:51:55.145243Z"
    },
    "id": "6kluyg_2ZIUd"
   },
   "outputs": [
    {
     "name": "stdout",
     "output_type": "stream",
     "text": [
      "Final Model clusters:\n",
      "quant_conv2d/conv2d/kernel:0: 8 clusters \n",
      "quant_dense/dense/kernel:0: 8 clusters \n",
      "\n",
      "Final Model sparsity:\n",
      "conv2d/kernel:0: 39.81% sparsity  (43/108)\n",
      "dense/kernel:0: 70.69% sparsity  (14336/20280)\n"
     ]
    }
   ],
   "source": [
    "print(\"Final Model clusters:\")\n",
    "print_model_weight_clusters(quant_model)\n",
    "print(\"\\nFinal Model sparsity:\")\n",
    "print_model_weights_sparsity(quant_model)"
   ]
  },
  {
   "cell_type": "code",
   "execution_count": 24,
   "metadata": {},
   "outputs": [
    {
     "name": "stdout",
     "output_type": "stream",
     "text": [
      "INFO:tensorflow:Assets written to: /var/folders/px/z8lb6znd6q95tq6vlznyb0s40000gn/T/tmpvl5h1d4j/assets\n"
     ]
    },
    {
     "name": "stderr",
     "output_type": "stream",
     "text": [
      "INFO:tensorflow:Assets written to: /var/folders/px/z8lb6znd6q95tq6vlznyb0s40000gn/T/tmpvl5h1d4j/assets\n"
     ]
    },
    {
     "name": "stdout",
     "output_type": "stream",
     "text": [
      "Final model size:  6.464  KB\n"
     ]
    },
    {
     "name": "stderr",
     "output_type": "stream",
     "text": [
      "/Users/ajaymaheshwari/anaconda3/lib/python3.11/site-packages/tensorflow/lite/python/convert.py:964: UserWarning: Statistics for quantized inputs were expected, but not specified; continuing anyway.\n",
      "  warnings.warn(\n",
      "WARNING: All log messages before absl::InitializeLog() is called are written to STDERR\n",
      "W0000 00:00:1716791365.204429   38899 tf_tfl_flatbuffer_helpers.cc:390] Ignored output_format.\n",
      "W0000 00:00:1716791365.204594   38899 tf_tfl_flatbuffer_helpers.cc:393] Ignored drop_control_dependency.\n",
      "2024-05-27 11:59:25.205616: I tensorflow/cc/saved_model/reader.cc:83] Reading SavedModel from: /var/folders/px/z8lb6znd6q95tq6vlznyb0s40000gn/T/tmpvl5h1d4j\n",
      "2024-05-27 11:59:25.206869: I tensorflow/cc/saved_model/reader.cc:51] Reading meta graph with tags { serve }\n",
      "2024-05-27 11:59:25.206874: I tensorflow/cc/saved_model/reader.cc:146] Reading SavedModel debug info (if present) from: /var/folders/px/z8lb6znd6q95tq6vlznyb0s40000gn/T/tmpvl5h1d4j\n",
      "2024-05-27 11:59:25.216951: I tensorflow/compiler/mlir/mlir_graph_optimization_pass.cc:388] MLIR V1 optimization pass is not enabled\n",
      "2024-05-27 11:59:25.217977: I tensorflow/cc/saved_model/loader.cc:234] Restoring SavedModel bundle.\n",
      "2024-05-27 11:59:25.254426: I tensorflow/cc/saved_model/loader.cc:218] Running initialization op on SavedModel bundle at path: /var/folders/px/z8lb6znd6q95tq6vlznyb0s40000gn/T/tmpvl5h1d4j\n",
      "2024-05-27 11:59:25.263761: I tensorflow/cc/saved_model/loader.cc:317] SavedModel load for tags { serve }; Status: success: OK. Took 58148 microseconds.\n",
      "2024-05-27 11:59:25.296398: I tensorflow/compiler/mlir/tensorflow/utils/dump_mlir_util.cc:268] disabling MLIR crash reproducer, set env var `MLIR_CRASH_REPRODUCER_DIRECTORY` to enable.\n"
     ]
    }
   ],
   "source": [
    "converter = tf.lite.TFLiteConverter.from_keras_model(quant_model)\n",
    "converter.optimizations = [tf.lite.Optimize.DEFAULT]\n",
    "final_tflite_model = converter.convert()\n",
    "final_model_file = 'final_model.tflite'\n",
    "# Save the model.\n",
    "with open(final_model_file, 'wb') as f:\n",
    "    f.write(final_tflite_model)\n",
    "\n",
    "\n",
    "sz = get_gzipped_model_size2(final_model_file)\n",
    "print(\"Final model size: \", sz, ' KB')\n",
    "\n",
    "model_sz.append(sz)"
   ]
  },
  {
   "cell_type": "code",
   "execution_count": 25,
   "metadata": {
    "execution": {
     "iopub.execute_input": "2024-03-09T12:52:00.353105Z",
     "iopub.status.busy": "2024-03-09T12:52:00.352520Z",
     "iopub.status.idle": "2024-03-09T12:52:01.104976Z",
     "shell.execute_reply": "2024-03-09T12:52:01.104182Z"
    },
    "id": "6p4RBECpZIUg"
   },
   "outputs": [
    {
     "name": "stderr",
     "output_type": "stream",
     "text": [
      "INFO: Created TensorFlow Lite XNNPACK delegate for CPU.\n",
      "WARNING: Attempting to use a delegate that only supports static-sized tensors with a graph that has dynamic-sized tensors (tensor#12 is a dynamic-sized tensor).\n"
     ]
    },
    {
     "name": "stdout",
     "output_type": "stream",
     "text": [
      "Final test accuracy: 0.9821\n"
     ]
    }
   ],
   "source": [
    "interpreter = tf.lite.Interpreter(final_model_file)\n",
    "interpreter.allocate_tensors()\n",
    " \n",
    "final_test_accuracy = eval_model(interpreter)\n",
    "\n",
    "print('Final test accuracy:', final_test_accuracy)\n",
    "\n",
    "model_acc.append(final_test_accuracy)"
   ]
  },
  {
   "cell_type": "markdown",
   "metadata": {},
   "source": [
    "                         ---------- Checkpoint Point 5 ---------"
   ]
  },
  {
   "cell_type": "code",
   "execution_count": 26,
   "metadata": {},
   "outputs": [
    {
     "name": "stdout",
     "output_type": "stream",
     "text": [
      "Accuracy = 98.25 with size = 223.497 KB \n",
      "Accuracy = 98.21 with size = 191.094 KB \n",
      "Accuracy = 97.81 with size = 210.341 KB \n",
      "Accuracy = 98.01 with size = 152.243 KB \n",
      "Accuracy = 98.21 with size = 6.464 KB \n"
     ]
    }
   ],
   "source": [
    "for i in range(len(model_acc)):\n",
    "    print(f\"Accuracy = { round(model_acc[i]*100,2)} with size = {model_sz[i]} KB \")"
   ]
  },
  {
   "cell_type": "markdown",
   "metadata": {},
   "source": [
    "                         ------- Final Comparison Summary -------"
   ]
  }
 ],
 "metadata": {
  "colab": {
   "collapsed_sections": [],
   "name": "pcqat_example.ipynb",
   "toc_visible": true
  },
  "kernelspec": {
   "display_name": "Python 3 (ipykernel)",
   "language": "python",
   "name": "python3"
  },
  "language_info": {
   "codemirror_mode": {
    "name": "ipython",
    "version": 3
   },
   "file_extension": ".py",
   "mimetype": "text/x-python",
   "name": "python",
   "nbconvert_exporter": "python",
   "pygments_lexer": "ipython3",
   "version": "3.11.5"
  }
 },
 "nbformat": 4,
 "nbformat_minor": 1
}

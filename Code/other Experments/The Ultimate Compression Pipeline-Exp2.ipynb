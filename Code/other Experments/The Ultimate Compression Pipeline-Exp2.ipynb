{
 "cells": [
  {
   "cell_type": "markdown",
   "metadata": {
    "id": "SyiSRgdtSGPC"
   },
   "source": [
    "   # The Ultimate Compression Pipeline ~ Ajay Maheshwari"
   ]
  },
  {
   "cell_type": "code",
   "execution_count": 14,
   "metadata": {
    "execution": {
     "iopub.execute_input": "2024-03-09T12:49:23.001543Z",
     "iopub.status.busy": "2024-03-09T12:49:23.001064Z",
     "iopub.status.idle": "2024-03-09T12:49:25.431792Z",
     "shell.execute_reply": "2024-03-09T12:49:25.430649Z"
    },
    "id": "3asgXMqnSGPE"
   },
   "outputs": [],
   "source": [
    "! pip install -q tensorflow-model-optimization"
   ]
  },
  {
   "cell_type": "code",
   "execution_count": 15,
   "metadata": {
    "execution": {
     "iopub.execute_input": "2024-03-09T12:49:25.436272Z",
     "iopub.status.busy": "2024-03-09T12:49:25.435968Z",
     "iopub.status.idle": "2024-03-09T12:49:28.313563Z",
     "shell.execute_reply": "2024-03-09T12:49:28.312649Z"
    },
    "id": "gL6JiLXkSGPI"
   },
   "outputs": [],
   "source": [
    "import tensorflow as tf\n",
    "import tf_keras as keras\n",
    "\n",
    "import numpy as np\n",
    "import tempfile\n",
    "import zipfile\n",
    "import os"
   ]
  },
  {
   "cell_type": "code",
   "execution_count": 16,
   "metadata": {},
   "outputs": [
    {
     "ename": "NameError",
     "evalue": "name 'ImageDataGenerator' is not defined",
     "output_type": "error",
     "traceback": [
      "\u001b[0;31m---------------------------------------------------------------------------\u001b[0m",
      "\u001b[0;31mNameError\u001b[0m                                 Traceback (most recent call last)",
      "Cell \u001b[0;32mIn[16], line 69\u001b[0m\n\u001b[1;32m     64\u001b[0m model_acc \u001b[38;5;241m=\u001b[39m []\n\u001b[1;32m     65\u001b[0m model_sz \u001b[38;5;241m=\u001b[39m []\n\u001b[0;32m---> 69\u001b[0m datagen \u001b[38;5;241m=\u001b[39m ImageDataGenerator(\n\u001b[1;32m     70\u001b[0m     rotation_range\u001b[38;5;241m=\u001b[39m\u001b[38;5;241m10\u001b[39m,      \u001b[38;5;66;03m# Random rotation up to 10 degrees\u001b[39;00m\n\u001b[1;32m     71\u001b[0m     width_shift_range\u001b[38;5;241m=\u001b[39m\u001b[38;5;241m0.1\u001b[39m,  \u001b[38;5;66;03m# Random horizontal shift by up to 10% of the width\u001b[39;00m\n\u001b[1;32m     72\u001b[0m     height_shift_range\u001b[38;5;241m=\u001b[39m\u001b[38;5;241m0.1\u001b[39m, \u001b[38;5;66;03m# Random vertical shift by up to 10% of the height\u001b[39;00m\n\u001b[1;32m     73\u001b[0m     horizontal_flip\u001b[38;5;241m=\u001b[39m\u001b[38;5;28;01mTrue\u001b[39;00m,   \u001b[38;5;66;03m# Random horizontal flip\u001b[39;00m\n\u001b[1;32m     74\u001b[0m     vertical_flip\u001b[38;5;241m=\u001b[39m\u001b[38;5;28;01mTrue\u001b[39;00m      \u001b[38;5;66;03m# Random vertical flip\u001b[39;00m\n\u001b[1;32m     75\u001b[0m )\n\u001b[1;32m     77\u001b[0m \u001b[38;5;66;03m# Fit the ImageDataGenerator on the training data\u001b[39;00m\n\u001b[1;32m     78\u001b[0m datagen\u001b[38;5;241m.\u001b[39mfit(train_images)\n",
      "\u001b[0;31mNameError\u001b[0m: name 'ImageDataGenerator' is not defined"
     ]
    }
   ],
   "source": [
    "def get_gzipped_model_size(model):\n",
    "  with tempfile.NamedTemporaryFile(suffix=\".h5\") as temp_file:  \n",
    "    model.save(temp_file.name)\n",
    "\n",
    "    _, zipped_file = tempfile.mkstemp('.zip')\n",
    "    with zipfile.ZipFile(zipped_file, 'w', compression=zipfile.ZIP_DEFLATED) as f:\n",
    "      f.write(temp_file.name)\n",
    "    \n",
    "    # print(f\"Zipped model is saved at: {zipped_file}\")\n",
    "\n",
    "    x = os.path.getsize(zipped_file)\n",
    "    \n",
    "    os.remove(zipped_file)\n",
    "    # print(f\"Temporary zip file removed: {zipped_file}\")\n",
    "        \n",
    "    return x / 1000\n",
    "\n",
    "\n",
    "def print_model_weights_sparsity(model):\n",
    "    for layer in model.layers:\n",
    "        if isinstance(layer, keras.layers.Wrapper):\n",
    "            weights = layer.trainable_weights\n",
    "        else:\n",
    "            weights = layer.weights\n",
    "        for weight in weights:\n",
    "            if \"kernel\" not in weight.name or \"centroid\" in weight.name:\n",
    "                continue\n",
    "            weight_size = weight.numpy().size\n",
    "            zero_num = np.count_nonzero(weight == 0)\n",
    "            print(\n",
    "                f\"{weight.name}: {zero_num/weight_size:.2%} sparsity \",\n",
    "                f\"({zero_num}/{weight_size})\",\n",
    "            )\n",
    "\n",
    "\n",
    "def get_gzipped_model_size2(file):\n",
    "\n",
    "  _, zipped_file = tempfile.mkstemp('.zip')\n",
    "  with zipfile.ZipFile(zipped_file, 'w', compression=zipfile.ZIP_DEFLATED) as f:\n",
    "    f.write(file)\n",
    "\n",
    "  return os.path.getsize(zipped_file)/1000\n",
    "\n",
    "\n",
    "def eval_model(interpreter):\n",
    "  input_index = interpreter.get_input_details()[0][\"index\"]\n",
    "  output_index = interpreter.get_output_details()[0][\"index\"]\n",
    "\n",
    "  prediction_digits = []\n",
    "  for i, test_image in enumerate(test_images):\n",
    "    test_image = np.expand_dims(test_image, axis=0).astype(np.float32)\n",
    "    interpreter.set_tensor(input_index, test_image)\n",
    "\n",
    "    interpreter.invoke()\n",
    "\n",
    "    output = interpreter.tensor(output_index)\n",
    "    digit = np.argmax(output()[0])\n",
    "    prediction_digits.append(digit)\n",
    "\n",
    "  prediction_digits = np.array(prediction_digits)\n",
    "  accuracy = (prediction_digits == test_labels).mean()\n",
    "  return accuracy\n",
    "\n",
    "model_acc = []\n",
    "model_sz = []\n",
    "\n",
    "\n",
    "\n",
    "datagen = ImageDataGenerator(\n",
    "    rotation_range=10,      # Random rotation up to 10 degrees\n",
    "    width_shift_range=0.1,  # Random horizontal shift by up to 10% of the width\n",
    "    height_shift_range=0.1, # Random vertical shift by up to 10% of the height\n",
    "    horizontal_flip=True,   # Random horizontal flip\n",
    "    vertical_flip=True      # Random vertical flip\n",
    ")\n",
    "\n",
    "# Fit the ImageDataGenerator on the training data\n",
    "datagen.fit(train_images)"
   ]
  },
  {
   "cell_type": "markdown",
   "metadata": {
    "id": "dKzOfl5FSGPL"
   },
   "source": [
    "## Creating a Base Model - 1.0"
   ]
  },
  {
   "cell_type": "code",
   "execution_count": null,
   "metadata": {
    "execution": {
     "iopub.execute_input": "2024-03-09T12:49:28.318406Z",
     "iopub.status.busy": "2024-03-09T12:49:28.317612Z",
     "iopub.status.idle": "2024-03-09T12:50:51.327361Z",
     "shell.execute_reply": "2024-03-09T12:50:51.326512Z"
    },
    "id": "w7Fd6jZ7SGPL"
   },
   "outputs": [],
   "source": [
    "# Load MNIST dataset\n",
    "mnist = keras.datasets.mnist\n",
    "(train_images, train_labels), (test_images, test_labels) = mnist.load_data()\n",
    "\n",
    "# Normalize the input image so that each pixel value is between 0 to 1.\n",
    "train_images = train_images / 255.0\n",
    "test_images  = test_images / 255.0\n",
    "\n",
    "model = keras.Sequential([\n",
    "  keras.layers.InputLayer(input_shape=(28, 28)),\n",
    "  keras.layers.Reshape(target_shape=(28, 28, 1)),\n",
    "  keras.layers.Conv2D(filters=12, kernel_size=(3, 3),\n",
    "                         activation=tf.nn.relu),\n",
    "  keras.layers.MaxPooling2D(pool_size=(2, 2)),\n",
    "  keras.layers.Flatten(),\n",
    "  keras.layers.Dense(10)\n",
    "])\n",
    "\n",
    "opt = keras.optimizers.Adam(learning_rate=1e-3)\n",
    "\n",
    "# Train the digit classification model\n",
    "model.compile(optimizer=opt,\n",
    "              loss=keras.losses.SparseCategoricalCrossentropy(from_logits=True),\n",
    "              metrics=['accuracy'])\n",
    "\n",
    "model.fit(\n",
    "    train_images,\n",
    "    train_labels,\n",
    "    validation_split=0.1,\n",
    "    epochs=10\n",
    ")"
   ]
  },
  {
   "cell_type": "markdown",
   "metadata": {
    "id": "rBOQ8MeESGPO"
   },
   "source": [
    "### Evaluate the baseline model and save it for later usage"
   ]
  },
  {
   "cell_type": "code",
   "execution_count": null,
   "metadata": {
    "execution": {
     "iopub.execute_input": "2024-03-09T12:50:51.331343Z",
     "iopub.status.busy": "2024-03-09T12:50:51.330742Z",
     "iopub.status.idle": "2024-03-09T12:50:51.987721Z",
     "shell.execute_reply": "2024-03-09T12:50:51.986958Z"
    },
    "id": "HYulekocSGPP"
   },
   "outputs": [],
   "source": [
    "_, baseline_model_accuracy = model.evaluate(\n",
    "    test_images, test_labels, verbose=0)\n",
    "\n",
    "print('Baseline test accuracy:', baseline_model_accuracy)\n",
    "\n",
    "sz = get_gzipped_model_size(model)\n",
    "print(\"Base model size: \",  sz , ' KB' )\n",
    "\n",
    "model_acc.append(baseline_model_accuracy)\n",
    "model_sz.append(sz)"
   ]
  },
  {
   "cell_type": "markdown",
   "metadata": {},
   "source": [
    "                         ---------- Checkpoint Point 1 ---------"
   ]
  },
  {
   "cell_type": "markdown",
   "metadata": {
    "id": "HPoCr4OFkXZE"
   },
   "source": [
    "## Pruning and then fine-tuning the model - 2.0"
   ]
  },
  {
   "cell_type": "code",
   "execution_count": 17,
   "metadata": {
    "execution": {
     "iopub.execute_input": "2024-03-09T12:50:51.992256Z",
     "iopub.status.busy": "2024-03-09T12:50:51.991693Z",
     "iopub.status.idle": "2024-03-09T12:50:52.943566Z",
     "shell.execute_reply": "2024-03-09T12:50:52.942753Z"
    },
    "id": "mqsN5tP-kXZF"
   },
   "outputs": [
    {
     "name": "stderr",
     "output_type": "stream",
     "text": [
      "WARNING:absl:At this time, the v2.11+ optimizer `tf.keras.optimizers.Adam` runs slowly on M1/M2 Macs, please use the legacy TF-Keras optimizer instead, located at `tf.keras.optimizers.legacy.Adam`.\n"
     ]
    },
    {
     "name": "stdout",
     "output_type": "stream",
     "text": [
      "Epoch 1/10\n",
      "1688/1688 [==============================] - 7s 4ms/step - loss: 0.0631 - accuracy: 0.9802 - val_loss: 0.0786 - val_accuracy: 0.9802\n",
      "Epoch 2/10\n",
      "1688/1688 [==============================] - 6s 3ms/step - loss: 0.0543 - accuracy: 0.9837 - val_loss: 0.0738 - val_accuracy: 0.9808\n",
      "Epoch 3/10\n",
      "1688/1688 [==============================] - 6s 4ms/step - loss: 0.0502 - accuracy: 0.9852 - val_loss: 0.0708 - val_accuracy: 0.9805\n",
      "Epoch 4/10\n",
      "1688/1688 [==============================] - 6s 4ms/step - loss: 0.0476 - accuracy: 0.9860 - val_loss: 0.0687 - val_accuracy: 0.9813\n",
      "Epoch 5/10\n",
      "1688/1688 [==============================] - 6s 4ms/step - loss: 0.0456 - accuracy: 0.9867 - val_loss: 0.0671 - val_accuracy: 0.9820\n",
      "Epoch 6/10\n",
      "1688/1688 [==============================] - 6s 3ms/step - loss: 0.0440 - accuracy: 0.9873 - val_loss: 0.0658 - val_accuracy: 0.9820\n",
      "Epoch 7/10\n",
      "1688/1688 [==============================] - 6s 4ms/step - loss: 0.0427 - accuracy: 0.9877 - val_loss: 0.0647 - val_accuracy: 0.9825\n",
      "Epoch 8/10\n",
      "1688/1688 [==============================] - 6s 4ms/step - loss: 0.0416 - accuracy: 0.9881 - val_loss: 0.0639 - val_accuracy: 0.9825\n",
      "Epoch 9/10\n",
      "1688/1688 [==============================] - 6s 4ms/step - loss: 0.0407 - accuracy: 0.9885 - val_loss: 0.0631 - val_accuracy: 0.9832\n",
      "Epoch 10/10\n",
      "1688/1688 [==============================] - 8s 5ms/step - loss: 0.0398 - accuracy: 0.9889 - val_loss: 0.0624 - val_accuracy: 0.9830\n",
      "conv2d_1/kernel:0: 50.00% sparsity  (54/108)\n",
      "dense_1/kernel:0: 50.00% sparsity  (10140/20280)\n"
     ]
    }
   ],
   "source": [
    "import tensorflow_model_optimization as tfmot\n",
    "\n",
    "pruning_params = {\n",
    "          'pruning_schedule': tfmot.sparsity.keras.ConstantSparsity(0.5, begin_step=0, frequency=100)     \n",
    "}\n",
    "\n",
    "callbacks = [\n",
    "      tfmot.sparsity.keras.UpdatePruningStep()\n",
    "]\n",
    "    \n",
    "    \n",
    "pruned_model = model\n",
    "\n",
    "\n",
    "prune_low_magnitude = tfmot.sparsity.keras.prune_low_magnitude\n",
    "\n",
    "pruned_model = prune_low_magnitude(pruned_model, **pruning_params)\n",
    "\n",
    "# learning rate for fine-tuning\n",
    "opt = keras.optimizers.Adam(learning_rate=1e-5)\n",
    "\n",
    "\n",
    "pruned_model.compile(\n",
    "  loss=keras.losses.SparseCategoricalCrossentropy(from_logits=True),\n",
    "  optimizer=opt,\n",
    "  metrics=['accuracy'])\n",
    "\n",
    "# Fine-tune model\n",
    "pruned_model.fit(\n",
    "  train_images,\n",
    "  train_labels,\n",
    "  epochs=10,\n",
    "  validation_split=0.1,\n",
    "  callbacks=callbacks)\n",
    "\n",
    "stripped_pruned_model = tfmot.sparsity.keras.strip_pruning(pruned_model)\n",
    "\n",
    "print_model_weights_sparsity(stripped_pruned_model)\n",
    "\n",
    "pruned_model = stripped_pruned_model\n",
    "\n"
   ]
  },
  {
   "cell_type": "code",
   "execution_count": 18,
   "metadata": {
    "execution": {
     "iopub.execute_input": "2024-03-09T12:50:52.948105Z",
     "iopub.status.busy": "2024-03-09T12:50:52.947434Z",
     "iopub.status.idle": "2024-03-09T12:51:17.402820Z",
     "shell.execute_reply": "2024-03-09T12:51:17.401918Z"
    },
    "id": "2aBxR8uEkXZG"
   },
   "outputs": [],
   "source": [
    "pruned_model.compile(\n",
    "      loss=keras.losses.SparseCategoricalCrossentropy(from_logits=True),\n",
    "      optimizer=opt,\n",
    "      metrics=['accuracy'])\n"
   ]
  },
  {
   "cell_type": "code",
   "execution_count": null,
   "metadata": {
    "execution": {
     "iopub.execute_input": "2024-03-09T12:51:17.406749Z",
     "iopub.status.busy": "2024-03-09T12:51:17.406047Z",
     "iopub.status.idle": "2024-03-09T12:51:17.412875Z",
     "shell.execute_reply": "2024-03-09T12:51:17.412200Z"
    },
    "id": "XL-zWoU4kXZG"
   },
   "outputs": [],
   "source": []
  },
  {
   "cell_type": "code",
   "execution_count": 19,
   "metadata": {
    "execution": {
     "iopub.execute_input": "2024-03-09T12:51:17.416380Z",
     "iopub.status.busy": "2024-03-09T12:51:17.415788Z",
     "iopub.status.idle": "2024-03-09T12:51:17.453872Z",
     "shell.execute_reply": "2024-03-09T12:51:17.453121Z"
    },
    "id": "_8_p--1NkXZG"
   },
   "outputs": [
    {
     "name": "stdout",
     "output_type": "stream",
     "text": [
      "Pruned Model test accuracy: 0.9807000160217285\n",
      "Stripped model size:  179.756  KB\n"
     ]
    }
   ],
   "source": [
    "_, pruned_model_accuracy = pruned_model.evaluate(\n",
    "    test_images, test_labels, verbose=0)\n",
    "\n",
    "print('Pruned Model test accuracy:', pruned_model_accuracy)\n",
    "\n",
    "sz = get_gzipped_model_size(pruned_model)\n",
    "print(\"Stripped model size: \",  sz , ' KB' )\n",
    "\n",
    "model_acc.append(pruned_model_accuracy)\n",
    "model_sz.append(sz)\n"
   ]
  },
  {
   "cell_type": "markdown",
   "metadata": {},
   "source": [
    "                         ---------- Checkpoint Point 2 ---------"
   ]
  },
  {
   "cell_type": "markdown",
   "metadata": {},
   "source": [
    "## Knowledge Distillation - 3.0"
   ]
  },
  {
   "cell_type": "code",
   "execution_count": 20,
   "metadata": {},
   "outputs": [],
   "source": [
    "from keras import layers\n",
    "from keras import ops\n",
    "import numpy as np\n",
    "\n",
    "class Distiller(keras.Model):\n",
    "    def __init__(self, student, teacher):\n",
    "        super().__init__()\n",
    "        self.teacher = teacher\n",
    "        self.student = student\n",
    "\n",
    "    def compile(\n",
    "        self,\n",
    "        optimizer,\n",
    "        metrics,\n",
    "        student_loss_fn,\n",
    "        distillation_loss_fn,\n",
    "        alpha=0.1,\n",
    "        temperature=3,\n",
    "    ):\n",
    "        super().compile(optimizer=optimizer, metrics=metrics)\n",
    "        self.student_loss_fn = student_loss_fn\n",
    "        self.distillation_loss_fn = distillation_loss_fn\n",
    "        self.alpha = alpha\n",
    "        self.temperature = temperature\n",
    "\n",
    "    def compute_loss(\n",
    "        self, x=None, y=None, y_pred=None, sample_weight=None, allow_empty=False\n",
    "    ):\n",
    "        teacher_pred = self.teacher(x, training=False)\n",
    "        student_loss = self.student_loss_fn(y, y_pred)\n",
    "\n",
    "        distillation_loss = self.distillation_loss_fn(\n",
    "            ops.softmax(teacher_pred / self.temperature, axis=1),\n",
    "            ops.softmax(y_pred / self.temperature, axis=1),\n",
    "        ) * (self.temperature**2)\n",
    "\n",
    "        loss = self.alpha * student_loss + (1 - self.alpha) * distillation_loss\n",
    "        return loss\n",
    "\n",
    "    def call(self, x):\n",
    "        return self.student(x)"
   ]
  },
  {
   "cell_type": "code",
   "execution_count": 21,
   "metadata": {},
   "outputs": [
    {
     "name": "stderr",
     "output_type": "stream",
     "text": [
      "WARNING:absl:At this time, the v2.11+ optimizer `tf.keras.optimizers.Adam` runs slowly on M1/M2 Macs, please use the legacy TF-Keras optimizer instead, located at `tf.keras.optimizers.legacy.Adam`.\n"
     ]
    }
   ],
   "source": [
    "teacher = keras.Sequential(\n",
    "    [\n",
    "        keras.layers.InputLayer(input_shape=(28, 28)),\n",
    "        keras.layers.Reshape(target_shape=(28, 28, 1)),\n",
    "        keras.layers.Conv2D(filters=16, kernel_size=(3, 3), activation=tf.nn.relu),  # Increase filters\n",
    "        keras.layers.MaxPooling2D(pool_size=(2, 2)),\n",
    "        keras.layers.Conv2D(filters=24, kernel_size=(3, 3), activation=tf.nn.relu),  # Add another layer\n",
    "        keras.layers.MaxPooling2D(pool_size=(2, 2)),\n",
    "        keras.layers.Flatten(),\n",
    "        keras.layers.Dense(units=128, activation=tf.nn.relu),  # Add a hidden layer\n",
    "        keras.layers.Dense(10)\n",
    "    ],\n",
    "    name=\"teacher\",\n",
    ")\n",
    "\n",
    "\n",
    "# teacher = keras.Sequential(\n",
    "#     [\n",
    "#           keras.layers.InputLayer(input_shape=(28, 28)),\n",
    "#           keras.layers.Reshape(target_shape=(28, 28, 1)),\n",
    "#           keras.layers.Conv2D(filters=12, kernel_size=(3, 3),\n",
    "#                                  activation=tf.nn.relu),\n",
    "#           keras.layers.MaxPooling2D(pool_size=(2, 2)),\n",
    "#           keras.layers.Flatten(),\n",
    "#           keras.layers.Dense(10)\n",
    "#     ],\n",
    "#     name=\"teacher\",\n",
    "# )\n",
    "\n",
    "\n",
    "teacher.compile(\n",
    "    optimizer=keras.optimizers.Adam(),\n",
    "    loss=keras.losses.SparseCategoricalCrossentropy(from_logits=True),\n",
    "    metrics=[keras.metrics.SparseCategoricalAccuracy()],\n",
    ")"
   ]
  },
  {
   "cell_type": "code",
   "execution_count": 22,
   "metadata": {},
   "outputs": [
    {
     "name": "stdout",
     "output_type": "stream",
     "text": [
      "Epoch 1/12\n",
      "1875/1875 [==============================] - 15s 7ms/step - loss: 0.1538 - sparse_categorical_accuracy: 0.9537\n",
      "Epoch 2/12\n",
      "1875/1875 [==============================] - 14s 7ms/step - loss: 0.0505 - sparse_categorical_accuracy: 0.9845\n",
      "Epoch 3/12\n",
      "1875/1875 [==============================] - 13s 7ms/step - loss: 0.0360 - sparse_categorical_accuracy: 0.9885\n",
      "Epoch 4/12\n",
      "1875/1875 [==============================] - 14s 7ms/step - loss: 0.0277 - sparse_categorical_accuracy: 0.9912\n",
      "Epoch 5/12\n",
      "1875/1875 [==============================] - 13s 7ms/step - loss: 0.0208 - sparse_categorical_accuracy: 0.9931\n",
      "Epoch 6/12\n",
      "1875/1875 [==============================] - 11s 6ms/step - loss: 0.0164 - sparse_categorical_accuracy: 0.9947\n",
      "Epoch 7/12\n",
      "1875/1875 [==============================] - 10s 6ms/step - loss: 0.0139 - sparse_categorical_accuracy: 0.9955\n",
      "Epoch 8/12\n",
      "1875/1875 [==============================] - 10s 5ms/step - loss: 0.0115 - sparse_categorical_accuracy: 0.9961\n",
      "Epoch 9/12\n",
      "1875/1875 [==============================] - 10s 5ms/step - loss: 0.0095 - sparse_categorical_accuracy: 0.9970\n",
      "Epoch 10/12\n",
      "1875/1875 [==============================] - 12s 7ms/step - loss: 0.0086 - sparse_categorical_accuracy: 0.9971\n",
      "Epoch 11/12\n",
      "1875/1875 [==============================] - 12s 6ms/step - loss: 0.0065 - sparse_categorical_accuracy: 0.9979\n",
      "Epoch 12/12\n",
      "1875/1875 [==============================] - 11s 6ms/step - loss: 0.0062 - sparse_categorical_accuracy: 0.9980\n",
      "313/313 [==============================] - 1s 3ms/step - loss: 0.0440 - sparse_categorical_accuracy: 0.9896\n"
     ]
    },
    {
     "data": {
      "text/plain": [
       "[0.04396843910217285, 0.9896000027656555]"
      ]
     },
     "execution_count": 22,
     "metadata": {},
     "output_type": "execute_result"
    }
   ],
   "source": [
    "teacher.fit(train_images, train_labels, epochs=12)\n",
    "teacher.evaluate(test_images, test_labels)"
   ]
  },
  {
   "cell_type": "code",
   "execution_count": 23,
   "metadata": {},
   "outputs": [
    {
     "name": "stderr",
     "output_type": "stream",
     "text": [
      "WARNING:absl:At this time, the v2.11+ optimizer `tf.keras.optimizers.Adam` runs slowly on M1/M2 Macs, please use the legacy TF-Keras optimizer instead, located at `tf.keras.optimizers.legacy.Adam`.\n"
     ]
    }
   ],
   "source": [
    "distiller = Distiller(student=pruned_model, teacher=teacher)\n",
    "distiller.compile(\n",
    "    optimizer=keras.optimizers.Adam(),\n",
    "    metrics=[keras.metrics.SparseCategoricalAccuracy()],\n",
    "    student_loss_fn=keras.losses.SparseCategoricalCrossentropy(from_logits=True),\n",
    "    distillation_loss_fn=keras.losses.KLDivergence(),\n",
    "    alpha=0.1,\n",
    "    temperature=10,\n",
    ")\n"
   ]
  },
  {
   "cell_type": "code",
   "execution_count": 24,
   "metadata": {},
   "outputs": [
    {
     "name": "stdout",
     "output_type": "stream",
     "text": [
      "Epoch 1/15\n",
      "1875/1875 [==============================] - 15s 7ms/step - sparse_categorical_accuracy: 0.9714\n",
      "Epoch 2/15\n",
      "1875/1875 [==============================] - 13s 7ms/step - sparse_categorical_accuracy: 0.9695\n",
      "Epoch 3/15\n",
      "1875/1875 [==============================] - 12s 7ms/step - sparse_categorical_accuracy: 0.9674\n",
      "Epoch 4/15\n",
      "1875/1875 [==============================] - 13s 7ms/step - sparse_categorical_accuracy: 0.9657\n",
      "Epoch 5/15\n",
      "1875/1875 [==============================] - 13s 7ms/step - sparse_categorical_accuracy: 0.9667\n",
      "Epoch 6/15\n",
      "1875/1875 [==============================] - 13s 7ms/step - sparse_categorical_accuracy: 0.9683\n",
      "Epoch 7/15\n",
      "1875/1875 [==============================] - 13s 7ms/step - sparse_categorical_accuracy: 0.9703\n",
      "Epoch 8/15\n",
      "1875/1875 [==============================] - 13s 7ms/step - sparse_categorical_accuracy: 0.9714\n",
      "Epoch 9/15\n",
      "1875/1875 [==============================] - 13s 7ms/step - sparse_categorical_accuracy: 0.9725\n",
      "Epoch 10/15\n",
      "1875/1875 [==============================] - 13s 7ms/step - sparse_categorical_accuracy: 0.9735\n",
      "Epoch 11/15\n",
      "1875/1875 [==============================] - 13s 7ms/step - sparse_categorical_accuracy: 0.9743\n",
      "Epoch 12/15\n",
      "1875/1875 [==============================] - 13s 7ms/step - sparse_categorical_accuracy: 0.9754\n",
      "Epoch 13/15\n",
      "1875/1875 [==============================] - 14s 7ms/step - sparse_categorical_accuracy: 0.9756\n",
      "Epoch 14/15\n",
      "1875/1875 [==============================] - 14s 7ms/step - sparse_categorical_accuracy: 0.9761\n",
      "Epoch 15/15\n",
      "1875/1875 [==============================] - 14s 7ms/step - sparse_categorical_accuracy: 0.9764\n",
      "313/313 [==============================] - 1s 2ms/step - sparse_categorical_accuracy: 0.9785\n"
     ]
    },
    {
     "data": {
      "text/plain": [
       "0.9785000085830688"
      ]
     },
     "execution_count": 24,
     "metadata": {},
     "output_type": "execute_result"
    }
   ],
   "source": [
    "# Distill teacher se student\n",
    "distiller.fit(train_images, train_labels, epochs=15)\n",
    "\n",
    "distiller.evaluate(test_images, test_labels)"
   ]
  },
  {
   "cell_type": "code",
   "execution_count": 25,
   "metadata": {},
   "outputs": [
    {
     "name": "stdout",
     "output_type": "stream",
     "text": [
      "Distilled Model test accuracy: 0.9785000085830688\n",
      "Distilled model size:  203.039  KB\n"
     ]
    }
   ],
   "source": [
    "_, acc = distiller.student.evaluate(\n",
    "    test_images, test_labels, verbose=0)\n",
    "\n",
    "print('Distilled Model test accuracy:', acc)\n",
    "\n",
    "sz = get_gzipped_model_size(distiller.student)\n",
    "print(\"Distilled model size: \",  sz , ' KB' )\n",
    "\n",
    "model_acc.append(acc)\n",
    "model_sz.append(sz)"
   ]
  },
  {
   "cell_type": "markdown",
   "metadata": {},
   "source": [
    "                         ---------- Checkpoint Point 3 ---------"
   ]
  },
  {
   "cell_type": "code",
   "execution_count": 29,
   "metadata": {},
   "outputs": [
    {
     "name": "stdout",
     "output_type": "stream",
     "text": [
      "Augmented train images shape: (60000, 28, 28, 1)\n",
      "Augmented train labels shape: (60000,)\n"
     ]
    }
   ],
   "source": [
    "from tensorflow.keras.preprocessing.image import ImageDataGenerator\n",
    "\n",
    "datagen = ImageDataGenerator(\n",
    "    rotation_range=10,      \n",
    "    width_shift_range=0.1,  \n",
    "    height_shift_range=0.1, \n",
    ")\n",
    "\n",
    "train_images = np.expand_dims(train_images, axis=-1)\n",
    "test_images = np.expand_dims(test_images, axis=-1)\n",
    "\n",
    "datagen.fit(train_images)\n",
    "\n",
    "augmented_images = []\n",
    "augmented_labels = []\n",
    "for X_batch, y_batch in datagen.flow(train_images, train_labels, batch_size=len(train_images), shuffle=False):\n",
    "    augmented_images.append(X_batch)\n",
    "    augmented_labels.append(y_batch)\n",
    "    break  \n",
    "\n",
    "# Concatenate the augmented images and labels\n",
    "augmented_images = np.concatenate(augmented_images)\n",
    "augmented_labels = np.concatenate(augmented_labels)\n",
    "\n",
    "# Convert labels of original number 6 to 9\n",
    "augmented_labels[train_labels == 6] = 9\n",
    "\n",
    "# Check the shape of augmented dataset\n",
    "print(\"Augmented train images shape:\", augmented_images.shape)\n",
    "print(\"Augmented train labels shape:\", augmented_labels.shape)"
   ]
  },
  {
   "cell_type": "code",
   "execution_count": null,
   "metadata": {},
   "outputs": [],
   "source": []
  },
  {
   "cell_type": "markdown",
   "metadata": {},
   "source": [
    "## Weight Clustering - 4.0"
   ]
  },
  {
   "cell_type": "code",
   "execution_count": null,
   "metadata": {},
   "outputs": [],
   "source": [
    "def print_model_weight_clusters(model):\n",
    "    for layer in model.layers:\n",
    "        if isinstance(layer, keras.layers.Wrapper):\n",
    "            weights = layer.trainable_weights\n",
    "        else:\n",
    "            weights = layer.weights\n",
    "        for weight in weights:\n",
    "            # ignore auxiliary quantization weights\n",
    "            if \"quantize_layer\" in weight.name:\n",
    "                continue\n",
    "            if \"kernel\" in weight.name:\n",
    "                unique_count = len(np.unique(weight))\n",
    "                print(\n",
    "                    f\"{layer.name}/{weight.name}: {unique_count} clusters \"\n",
    "                )"
   ]
  },
  {
   "cell_type": "code",
   "execution_count": null,
   "metadata": {
    "execution": {
     "iopub.execute_input": "2024-03-09T12:51:17.457801Z",
     "iopub.status.busy": "2024-03-09T12:51:17.457165Z",
     "iopub.status.idle": "2024-03-09T12:51:42.585401Z",
     "shell.execute_reply": "2024-03-09T12:51:42.584660Z"
    },
    "id": "RetnGeQnkXZH"
   },
   "outputs": [],
   "source": [
    "import tensorflow_model_optimization as tfmot\n",
    "from tensorflow_model_optimization.python.core.clustering.keras.experimental import (\n",
    "    cluster,\n",
    ")\n",
    "\n",
    "cluster_weights = tfmot.clustering.keras.cluster_weights\n",
    "CentroidInitialization = tfmot.clustering.keras.CentroidInitialization\n",
    "\n",
    "cluster_weights = cluster.cluster_weights\n",
    "\n",
    "clustering_params = {\n",
    "  'number_of_clusters': 8,\n",
    "  'cluster_centroids_init': CentroidInitialization.KMEANS_PLUS_PLUS,\n",
    "  'preserve_sparsity': True\n",
    "}\n",
    "\n",
    "sparsity_clustered_model = cluster_weights(distiller.student, **clustering_params)\n",
    "\n",
    "sparsity_clustered_model.compile(optimizer='adam',\n",
    "              loss=keras.losses.SparseCategoricalCrossentropy(from_logits=True),\n",
    "              metrics=['accuracy'])\n",
    "\n",
    "print('Train sparsity preserving clustering model:')\n",
    "sparsity_clustered_model.fit(train_images, train_labels,epochs=6, validation_split=0.1)"
   ]
  },
  {
   "cell_type": "code",
   "execution_count": null,
   "metadata": {
    "execution": {
     "iopub.execute_input": "2024-03-09T12:51:42.589384Z",
     "iopub.status.busy": "2024-03-09T12:51:42.588809Z",
     "iopub.status.idle": "2024-03-09T12:51:42.647457Z",
     "shell.execute_reply": "2024-03-09T12:51:42.646687Z"
    },
    "id": "iHN3NW8OkXZI"
   },
   "outputs": [],
   "source": [
    "stripped_clustered_model = tfmot.clustering.keras.strip_clustering(sparsity_clustered_model)\n",
    "\n",
    "print(\"Model sparsity:\\n\")\n",
    "print_model_weights_sparsity(stripped_clustered_model)\n",
    "\n",
    "print(\"\\nModel clusters:\\n\")\n",
    "print_model_weight_clusters(stripped_clustered_model)"
   ]
  },
  {
   "cell_type": "code",
   "execution_count": null,
   "metadata": {},
   "outputs": [],
   "source": [
    "stripped_clustered_model.compile(optimizer=opt,\n",
    "              loss=keras.losses.SparseCategoricalCrossentropy(from_logits=True),\n",
    "              metrics=['accuracy'])"
   ]
  },
  {
   "cell_type": "code",
   "execution_count": null,
   "metadata": {},
   "outputs": [],
   "source": [
    "_, stripped_clustered_model_accuracy = stripped_clustered_model.evaluate(\n",
    "    test_images, test_labels, verbose=0)\n",
    "\n",
    "print('Clustered Model test accuracy:', stripped_clustered_model_accuracy)\n",
    "\n",
    "sz = get_gzipped_model_size(stripped_clustered_model)\n",
    "print(\"Clustered model size: \",  sz , ' KB' )\n",
    "\n",
    "model_acc.append(stripped_clustered_model_accuracy)\n",
    "model_sz.append(sz)"
   ]
  },
  {
   "cell_type": "markdown",
   "metadata": {},
   "source": [
    "                         ---------- Checkpoint Point 4 ---------"
   ]
  },
  {
   "cell_type": "markdown",
   "metadata": {},
   "source": [
    "## Quantization - 5.0"
   ]
  },
  {
   "cell_type": "code",
   "execution_count": null,
   "metadata": {
    "execution": {
     "iopub.execute_input": "2024-03-09T12:51:42.651439Z",
     "iopub.status.busy": "2024-03-09T12:51:42.650879Z",
     "iopub.status.idle": "2024-03-09T12:51:55.132299Z",
     "shell.execute_reply": "2024-03-09T12:51:55.131490Z"
    },
    "id": "Nfp-xfHdZIUc"
   },
   "outputs": [],
   "source": [
    "quant_aware_annotate_model = tfmot.quantization.keras.quantize_annotate_model(\n",
    "              stripped_clustered_model)\n",
    "quant_model = tfmot.quantization.keras.quantize_apply(\n",
    "              quant_aware_annotate_model,\n",
    "              tfmot.experimental.combine.Default8BitClusterPreserveQuantizeScheme(preserve_sparsity=True))\n",
    "\n",
    "quant_model.compile(optimizer='adam',\n",
    "              loss=keras.losses.SparseCategoricalCrossentropy(from_logits=True),\n",
    "              metrics=['accuracy'])\n",
    "print('Training after quantization model:')\n",
    "quant_model.fit(train_images, train_labels, batch_size=128, epochs=3, validation_split=0.1)"
   ]
  },
  {
   "cell_type": "code",
   "execution_count": null,
   "metadata": {
    "execution": {
     "iopub.execute_input": "2024-03-09T12:51:55.136081Z",
     "iopub.status.busy": "2024-03-09T12:51:55.135494Z",
     "iopub.status.idle": "2024-03-09T12:51:55.145936Z",
     "shell.execute_reply": "2024-03-09T12:51:55.145243Z"
    },
    "id": "6kluyg_2ZIUd"
   },
   "outputs": [],
   "source": [
    "print(\"Final Model clusters:\")\n",
    "print_model_weight_clusters(quant_model)\n",
    "print(\"\\nFinal Model sparsity:\")\n",
    "print_model_weights_sparsity(quant_model)"
   ]
  },
  {
   "cell_type": "code",
   "execution_count": null,
   "metadata": {},
   "outputs": [],
   "source": [
    "converter = tf.lite.TFLiteConverter.from_keras_model(quant_model)\n",
    "converter.optimizations = [tf.lite.Optimize.DEFAULT]\n",
    "final_tflite_model = converter.convert()\n",
    "final_model_file = 'final_model.tflite'\n",
    "# Save the model.\n",
    "with open(final_model_file, 'wb') as f:\n",
    "    f.write(final_tflite_model)\n",
    "\n",
    "\n",
    "sz = get_gzipped_model_size2(final_model_file)\n",
    "print(\"Final model size: \", sz, ' KB')\n",
    "\n",
    "model_sz.append(sz)"
   ]
  },
  {
   "cell_type": "code",
   "execution_count": null,
   "metadata": {
    "execution": {
     "iopub.execute_input": "2024-03-09T12:52:00.353105Z",
     "iopub.status.busy": "2024-03-09T12:52:00.352520Z",
     "iopub.status.idle": "2024-03-09T12:52:01.104976Z",
     "shell.execute_reply": "2024-03-09T12:52:01.104182Z"
    },
    "id": "6p4RBECpZIUg"
   },
   "outputs": [],
   "source": [
    "interpreter = tf.lite.Interpreter(final_model_file)\n",
    "interpreter.allocate_tensors()\n",
    " \n",
    "final_test_accuracy = eval_model(interpreter)\n",
    "\n",
    "print('Final test accuracy:', final_test_accuracy)\n",
    "\n",
    "model_acc.append(final_test_accuracy)"
   ]
  },
  {
   "cell_type": "markdown",
   "metadata": {},
   "source": [
    "                         ---------- Checkpoint Point 5 ---------"
   ]
  },
  {
   "cell_type": "code",
   "execution_count": null,
   "metadata": {},
   "outputs": [],
   "source": [
    "for i in range(len(model_acc)):\n",
    "    print(f\"Accuracy = { round(model_acc[i]*100,2)} with size = {model_sz[i]} KB \")"
   ]
  },
  {
   "cell_type": "markdown",
   "metadata": {},
   "source": [
    "                         ------- Final Comparison Summary -------"
   ]
  }
 ],
 "metadata": {
  "colab": {
   "collapsed_sections": [],
   "name": "pcqat_example.ipynb",
   "toc_visible": true
  },
  "kernelspec": {
   "display_name": "Python 3 (ipykernel)",
   "language": "python",
   "name": "python3"
  },
  "language_info": {
   "codemirror_mode": {
    "name": "ipython",
    "version": 3
   },
   "file_extension": ".py",
   "mimetype": "text/x-python",
   "name": "python",
   "nbconvert_exporter": "python",
   "pygments_lexer": "ipython3",
   "version": "3.11.5"
  }
 },
 "nbformat": 4,
 "nbformat_minor": 1
}
